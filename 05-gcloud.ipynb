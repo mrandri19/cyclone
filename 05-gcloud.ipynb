{
 "cells": [
  {
   "cell_type": "markdown",
   "id": "ad833f39",
   "metadata": {},
   "source": [
    "## Build base Docker image (if not already built)"
   ]
  },
  {
   "cell_type": "code",
   "execution_count": null,
   "id": "d490b2f7",
   "metadata": {},
   "outputs": [],
   "source": [
    "%%bash\n",
    "docker build -t mlflow-docker-example -f bike-rental-regression/Dockerfile . "
   ]
  },
  {
   "cell_type": "markdown",
   "id": "a1cb9f19",
   "metadata": {},
   "source": [
    "## Train a model"
   ]
  },
  {
   "cell_type": "code",
   "execution_count": null,
   "id": "f71c683b",
   "metadata": {},
   "outputs": [],
   "source": [
    "%%bash\n",
    "mlflow run bike-rental-regression -P train_year=2011 -P train_month=1 -P test_year=2011 -P test_month=3 -P dataset_path=/data/train_bike.csv"
   ]
  },
  {
   "cell_type": "markdown",
   "id": "21328906",
   "metadata": {},
   "source": [
    "## Package the model in a Docker image and register it in the local registry"
   ]
  },
  {
   "cell_type": "code",
   "execution_count": null,
   "id": "df238f71",
   "metadata": {},
   "outputs": [],
   "source": [
    "%%bash\n",
    "mlflow models build-docker --model-uri runs:/c258b637e0a64ffe979248f475d4c94b/model --name \"my-image-name\""
   ]
  },
  {
   "cell_type": "markdown",
   "id": "ada7549e",
   "metadata": {},
   "source": [
    "## Tag the Docker image in order to push it to GCP Artifact Registry"
   ]
  },
  {
   "cell_type": "code",
   "execution_count": null,
   "id": "cc6e833a",
   "metadata": {},
   "outputs": [],
   "source": [
    "%%bash\n",
    "docker tag my-image-name:latest europe-north1-docker.pkg.dev/aalto-atss/cyclone-docker-repo/my-image-name:latest"
   ]
  },
  {
   "cell_type": "markdown",
   "id": "8c9ec653",
   "metadata": {},
   "source": [
    "## Push the image"
   ]
  },
  {
   "cell_type": "code",
   "execution_count": 18,
   "id": "8fb3e73e",
   "metadata": {},
   "outputs": [
    {
     "name": "stdout",
     "output_type": "stream",
     "text": [
      "The push refers to repository [europe-north1-docker.pkg.dev/aalto-atss/cyclone-docker-repo/my-image-name]\n",
      "ba3832347bc7: Preparing\n",
      "1e5fb491959e: Preparing\n",
      "439d36d2da31: Preparing\n",
      "d0cdc2725501: Preparing\n",
      "9a421c24b37a: Preparing\n",
      "6719756ec0b7: Preparing\n",
      "931f8fb95381: Preparing\n",
      "22843a8b08ac: Preparing\n",
      "4554b763a583: Preparing\n",
      "c38454c68f66: Preparing\n",
      "2fb7b764853b: Preparing\n",
      "824bf068fd3d: Preparing\n",
      "6719756ec0b7: Waiting\n",
      "931f8fb95381: Waiting\n",
      "22843a8b08ac: Waiting\n",
      "4554b763a583: Waiting\n",
      "c38454c68f66: Waiting\n",
      "824bf068fd3d: Waiting\n",
      "2fb7b764853b: Waiting\n",
      "d0cdc2725501: Layer already exists\n",
      "1e5fb491959e: Layer already exists\n",
      "ba3832347bc7: Layer already exists\n",
      "9a421c24b37a: Layer already exists\n",
      "439d36d2da31: Layer already exists\n",
      "6719756ec0b7: Layer already exists\n",
      "931f8fb95381: Layer already exists\n",
      "22843a8b08ac: Layer already exists\n",
      "4554b763a583: Layer already exists\n",
      "c38454c68f66: Layer already exists\n",
      "2fb7b764853b: Layer already exists\n",
      "824bf068fd3d: Layer already exists\n",
      "latest: digest: sha256:6e25577737a3dc6c998ef65910812d445f29b435f843803d53f20216af5573ce size: 2850\n"
     ]
    }
   ],
   "source": [
    "%%bash\n",
    "docker push europe-north1-docker.pkg.dev/aalto-atss/cyclone-docker-repo/my-image-name:latest"
   ]
  },
  {
   "cell_type": "markdown",
   "id": "02d264ad",
   "metadata": {},
   "source": [
    "## Deploy on GCR\n",
    "\n",
    "Create a new service on GCR, setting the port to 8000, setting `DISABLE_NGINX` to `true`, and `GUNICORN_CMD_ARGS` to `--bind=0.0.0.0`.\n",
    "Essentially we want to replicate on GCR this local command:\n",
    "```\n",
    "docker run -p 5001:8000 -e DISABLE_NGINX=true -e GUNICORN_CMD_ARGS=\"--bind=0.0.0.0\" my-image-name:latest\n",
    "```"
   ]
  },
  {
   "cell_type": "markdown",
   "id": "372cf8a0",
   "metadata": {},
   "source": [
    "## Test that the model deployed on GCR has the expected performance\n",
    "\n",
    "We get the service's `URL` from GCR's console."
   ]
  },
  {
   "cell_type": "code",
   "execution_count": 17,
   "id": "36706c78-d9e0-4dbe-9fef-5ea8f883bb5d",
   "metadata": {},
   "outputs": [],
   "source": [
    "import requests\n",
    "import json\n",
    "import pandas as pd\n",
    "import numpy as np\n",
    "\n",
    "URL = 'https://my-image-name-ae5g3kdcea-lz.a.run.app/invocations'\n",
    "\n",
    "dataset = pd.read_csv('data/train_bike.csv', header=0,  sep=',',\n",
    "                      parse_dates=['datetime'], index_col='datetime').drop(\n",
    "    columns=['casual', 'registered']\n",
    ")\n",
    "test_year = 2011\n",
    "test_month = 3\n",
    "test: pd.DataFrame = dataset.loc[\n",
    "    lambda df: (df.index.year == test_year) & (df.index.month == test_month)\n",
    "]\n",
    "def time_features(input_df):\n",
    "    return input_df.assign(\n",
    "        month = lambda df: df.index.month,\n",
    "        day = lambda df: df.index.day,\n",
    "        hour = lambda df: df.index.hour,\n",
    "    )\n",
    "test.pipe(time_features).drop(columns='count').head().to_json(orient='split', index=False)\n",
    "\n",
    "predictions = requests.post(\n",
    "    URL,\n",
    "    json=json.loads(\n",
    "        test.pipe(time_features)\n",
    "        .drop(columns='count')\n",
    "        .to_json(orient='split', index=False)\n",
    "    )\n",
    ").json()\n",
    "\n",
    "from sklearn.metrics import r2_score\n",
    "\n",
    "assert test_month == 3\n",
    "assert np.abs(r2_score(test.pipe(time_features)['count'].values, predictions) - 0.603) < 1e-2"
   ]
  }
 ],
 "metadata": {
  "kernelspec": {
   "display_name": "Python 3 (ipykernel)",
   "language": "python",
   "name": "python3"
  },
  "language_info": {
   "codemirror_mode": {
    "name": "ipython",
    "version": 3
   },
   "file_extension": ".py",
   "mimetype": "text/x-python",
   "name": "python",
   "nbconvert_exporter": "python",
   "pygments_lexer": "ipython3",
   "version": "3.8.10"
  },
  "toc-autonumbering": false,
  "toc-showcode": false
 },
 "nbformat": 4,
 "nbformat_minor": 5
}
