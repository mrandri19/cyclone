{
 "cells": [
  {
   "cell_type": "code",
   "execution_count": 1,
   "id": "24dbeda7",
   "metadata": {},
   "outputs": [],
   "source": [
    "import pandas as pd\n",
    "import requests\n",
    "import json\n",
    "import pprint\n",
    "from sklearn.metrics import r2_score\n",
    "from copy import deepcopy\n",
    "URL = 'https://my-serving-image-ae5g3kdcea-lz.a.run.app/invocations'\n",
    "# URL = 'http://localhost:5000/invocations'\n",
    "\n",
    "\n",
    "def time_features(input_df):\n",
    "    return input_df.assign(\n",
    "        month=lambda df: df.index.month,\n",
    "        day=lambda df: df.index.day,\n",
    "        hour=lambda df: df.index.hour,\n",
    "    )\n",
    "\n",
    "\n",
    "def chunks(lst, n):\n",
    "    \"\"\"Yield successive n-sized chunks from lst.\"\"\"\n",
    "    for i in range(0, len(lst), n):\n",
    "        yield lst[i:i + n]\n",
    "\n",
    "\n",
    "def make_request(url, test_year, test_month):\n",
    "    # Load dataset\n",
    "    dataset = pd.read_csv('data/train_bike.csv', header=0,  sep=',',\n",
    "                          parse_dates=['datetime'], index_col='datetime').drop(\n",
    "        columns=['casual', 'registered']\n",
    "    )\n",
    "    test: pd.DataFrame = dataset.loc[\n",
    "        lambda df: (df.index.year == test_year) & (\n",
    "            df.index.month == test_month)\n",
    "    ]\n",
    "    true_count = test.pipe(time_features)['count'].values\n",
    "\n",
    "    # Convert it to the invocations API format\n",
    "    test_json_str: str = (test.pipe(time_features)\n",
    "                          .drop(columns='count')\n",
    "                          .to_json(orient='split', index=False))\n",
    "    test_json = json.loads(test_json_str)\n",
    "\n",
    "    # Split it into n-prediction chunks\n",
    "    n = 100\n",
    "    all_predictions = []\n",
    "    for i, (chunk_data, chunk_true_count) in enumerate(\n",
    "        zip(\n",
    "            chunks(test_json['data'], n),\n",
    "            chunks(true_count, n)\n",
    "        )\n",
    "        ):\n",
    "        chunk_json = deepcopy(test_json)\n",
    "\n",
    "        chunk_json['columns'] = list(range(len(chunk_json['columns'])))\n",
    "\n",
    "        chunk_json['data'] = chunk_data\n",
    "\n",
    "        chunk_json['labels'] = chunk_true_count.tolist()\n",
    "\n",
    "        response = requests.post(\n",
    "            URL,\n",
    "            json=chunk_json\n",
    "        )\n",
    "\n",
    "        assert response.status_code == 200, \\\n",
    "            f'expected 200, got {response.status_code}, message: {response.content.decode(\"unicode_escape\")}'\n",
    "\n",
    "        predictions = response.json()\n",
    "        all_predictions.extend(predictions)\n",
    "    \n",
    "\n",
    "    score = r2_score(true_count, all_predictions)\n",
    "    return {\n",
    "        'R2_test': score, 'test_year': test_year, 'test_month': test_month\n",
    "    }\n",
    "\n",
    "\n"
   ]
  },
  {
   "cell_type": "markdown",
   "id": "0baffe09",
   "metadata": {},
   "source": [
    "---"
   ]
  },
  {
   "cell_type": "markdown",
   "id": "7cf52b1f",
   "metadata": {},
   "source": [
    "# Demo"
   ]
  },
  {
   "cell_type": "markdown",
   "id": "0395647d",
   "metadata": {},
   "source": [
    "## Setup (i.e. get to state 1)\n"
   ]
  },
  {
   "cell_type": "markdown",
   "id": "b5472cff",
   "metadata": {},
   "source": [
    "* Deploy revision with docker image with tag `month-1`\n",
    "\n",
    "`gcloud run deploy my-serving-image --image europe-north1-docker.pkg.dev/aalto-atss/cyclone-docker-repo/my-serving-image:month-1 --region=europe-north1`\n",
    "\n",
    "* Delete everything from database"
   ]
  },
  {
   "cell_type": "markdown",
   "id": "3e84b162",
   "metadata": {},
   "source": [
    "* Insert month 1 data into db"
   ]
  },
  {
   "cell_type": "code",
   "execution_count": 7,
   "id": "eb0405ce",
   "metadata": {},
   "outputs": [
    {
     "name": "stdout",
     "output_type": "stream",
     "text": [
      "{'R2_test': 0.9319258150717562, 'test_year': 2011, 'test_month': 1}\n"
     ]
    }
   ],
   "source": [
    "print(make_request(URL, 2011, test_month=1))"
   ]
  },
  {
   "cell_type": "markdown",
   "id": "7149f842",
   "metadata": {},
   "source": [
    "## State 1\n",
    "\n",
    "* Database has data for months {1}\n",
    "* Model has been trained on month 1\n",
    "* R2 is undefined"
   ]
  },
  {
   "cell_type": "markdown",
   "id": "202ae700",
   "metadata": {},
   "source": [
    "## Action 1: make a request for month 2"
   ]
  },
  {
   "cell_type": "code",
   "execution_count": 8,
   "id": "7b8e5ef6",
   "metadata": {},
   "outputs": [
    {
     "name": "stdout",
     "output_type": "stream",
     "text": [
      "{'R2_test': 0.6654214142652897, 'test_year': 2011, 'test_month': 2}\n"
     ]
    }
   ],
   "source": [
    "print(make_request(URL, 2011, test_month=2))"
   ]
  },
  {
   "cell_type": "markdown",
   "id": "9c7fd763",
   "metadata": {},
   "source": [
    "## State 2\n",
    "\n",
    "* Database has data for months {1, 2}\n",
    "* Model has been trained on month 1\n",
    "* R2 is >0.4"
   ]
  },
  {
   "cell_type": "markdown",
   "id": "603b244a",
   "metadata": {},
   "source": [
    "## Action 2: make a request for month 3"
   ]
  },
  {
   "cell_type": "code",
   "execution_count": 9,
   "id": "567a682c",
   "metadata": {},
   "outputs": [
    {
     "name": "stdout",
     "output_type": "stream",
     "text": [
      "{'R2_test': 0.46844637823598234, 'test_year': 2011, 'test_month': 3}\n"
     ]
    }
   ],
   "source": [
    "print(make_request(URL, 2011, test_month=3))"
   ]
  },
  {
   "cell_type": "markdown",
   "id": "558e97e5",
   "metadata": {},
   "source": [
    "## State 3\n",
    "\n",
    "* Database has data for months {1, 2, 3}\n",
    "* Model has been trained on month 1\n",
    "* R2 is >0.4"
   ]
  },
  {
   "cell_type": "markdown",
   "id": "bee3cac6",
   "metadata": {},
   "source": [
    "## Action 3: make a request for month 4"
   ]
  },
  {
   "cell_type": "code",
   "execution_count": 10,
   "id": "711ce2c7",
   "metadata": {},
   "outputs": [
    {
     "name": "stdout",
     "output_type": "stream",
     "text": [
      "{'R2_test': 0.16358972823864737, 'test_year': 2011, 'test_month': 4}\n"
     ]
    }
   ],
   "source": [
    "print(make_request(URL, 2011, test_month=4))"
   ]
  },
  {
   "cell_type": "markdown",
   "id": "62fa2581",
   "metadata": {},
   "source": [
    "## State 4\n",
    "\n",
    "* Database has data for months {1, 2, 3, 4}\n",
    "* Model has been trained on month 1\n",
    "* R2 is <0.4"
   ]
  },
  {
   "cell_type": "markdown",
   "id": "3e4075ea",
   "metadata": {},
   "source": [
    "## Action 4\n",
    "\n",
    "Threshold is surpassed so a new model will be automatically retrained on the\n",
    "latest data and redeployed."
   ]
  },
  {
   "cell_type": "markdown",
   "id": "0422d1f2",
   "metadata": {},
   "source": [
    "## State 5\n",
    "\n",
    "* Database has data for months {1, 2, 3, 4}\n",
    "* Model has been trained on month 4\n",
    "* R2 is undefined"
   ]
  },
  {
   "cell_type": "markdown",
   "id": "c7a34745",
   "metadata": {},
   "source": [
    "## Action 5"
   ]
  },
  {
   "cell_type": "code",
   "execution_count": 11,
   "id": "9b8ecda2",
   "metadata": {},
   "outputs": [
    {
     "name": "stdout",
     "output_type": "stream",
     "text": [
      "{'R2_test': 0.5445912080295541, 'test_year': 2011, 'test_month': 5}\n"
     ]
    }
   ],
   "source": [
    "print(make_request(URL, 2011, test_month=5))"
   ]
  },
  {
   "cell_type": "markdown",
   "id": "cba85e6e",
   "metadata": {},
   "source": [
    "## State 6\n",
    "\n",
    "* Database has data for months {1, 2, 3, 4, 5}\n",
    "* Model has been trained on month 5\n",
    "* R2 is >0.4"
   ]
  }
 ],
 "metadata": {
  "kernelspec": {
   "display_name": "Python 3 (ipykernel)",
   "language": "python",
   "name": "python3"
  },
  "language_info": {
   "codemirror_mode": {
    "name": "ipython",
    "version": 3
   },
   "file_extension": ".py",
   "mimetype": "text/x-python",
   "name": "python",
   "nbconvert_exporter": "python",
   "pygments_lexer": "ipython3",
   "version": "3.8.10"
  },
  "toc-autonumbering": false,
  "toc-showcode": false
 },
 "nbformat": 4,
 "nbformat_minor": 5
}
