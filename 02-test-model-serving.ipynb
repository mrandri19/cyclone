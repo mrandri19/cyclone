{
 "cells": [
  {
   "cell_type": "markdown",
   "id": "e9b61c2a-adae-4fa7-895d-ff2c79854305",
   "metadata": {},
   "source": [
    "## Train a model "
   ]
  },
  {
   "cell_type": "code",
   "execution_count": 83,
   "id": "7d10b293-a12c-4faa-925f-8cc0afe0178a",
   "metadata": {},
   "outputs": [
    {
     "name": "stderr",
     "output_type": "stream",
     "text": [
      "2021/11/06 19:15:28 INFO mlflow.projects.utils: === Created directory /tmp/tmptcbb_mkk for downloading remote URIs passed to arguments of type 'path' ===\n",
      "2021/11/06 19:15:28 INFO mlflow.projects.backend.local: === Running command 'source /home/andrea/miniconda3/bin/../etc/profile.d/conda.sh && conda activate mlflow-3ba878fc7c575322867d4954b82239190f6a5ce6 1>&2 && python train.py 2011 1 2011 3 /home/andrea/demo-ATSS/train_bike.csv' in run with ID 'bd011c5a3b3944bd82d33d2319d1318c' === \n",
      "/home/andrea/miniconda3/envs/mlflow-3ba878fc7c575322867d4954b82239190f6a5ce6/lib/python3.9/site-packages/mlflow/models/signature.py:129: UserWarning: Hint: Inferred schema contains integer column(s). Integer columns in Python cannot represent missing values. If your input data contains missing values at inference time, it will be encoded as floats and will cause a schema enforcement error. The best way to avoid this problem is to infer the model schema based on a realistic data sample (training dataset) that includes missing values. Alternatively, you can declare integer columns as doubles (float64) whenever these columns may have missing values. See `Handling Integers With Missing Values <https://www.mlflow.org/docs/latest/models.html#handling-integers-with-missing-values>`_ for more details.\n",
      "  inputs = _infer_schema(model_input)\n",
      "2021/11/06 19:15:34 INFO mlflow.projects: === Run (ID 'bd011c5a3b3944bd82d33d2319d1318c') succeeded ===\n"
     ]
    }
   ],
   "source": [
    "%%bash\n",
    "mlflow run bike-rental-regression -P train_year=2011 -P train_month=1 -P test_year=2011 -P test_month=3 -P dataset_path=train_bike.csv"
   ]
  },
  {
   "cell_type": "markdown",
   "id": "aaf47a8d-caec-4348-88b8-eecf23b6edef",
   "metadata": {},
   "source": [
    "## Serve a model"
   ]
  },
  {
   "cell_type": "markdown",
   "id": "ebfeab0b-0be6-4c2a-befb-b61c9fa6c665",
   "metadata": {},
   "source": [
    "`mlflow models serve --model-uri runs:/bd011c5a3b3944bd82d33d2319d1318c/model --port 9999`"
   ]
  },
  {
   "cell_type": "markdown",
   "id": "2af2932a-f65b-4420-a71e-08bb6d102086",
   "metadata": {},
   "source": [
    "Do this in a separate shell as it will not terminate until we stop it."
   ]
  },
  {
   "cell_type": "markdown",
   "id": "17ae10ab-5640-4e9d-9f63-3001e2619d34",
   "metadata": {},
   "source": [
    "Use the run ID from the previous step's ouput."
   ]
  },
  {
   "cell_type": "markdown",
   "id": "3d05426e-1115-4e42-a5c6-9910ded45b21",
   "metadata": {},
   "source": [
    "## Try to get a prediction"
   ]
  },
  {
   "cell_type": "code",
   "execution_count": 84,
   "id": "e8c3d837-77ef-4704-a106-7c2a39c01bea",
   "metadata": {},
   "outputs": [],
   "source": [
    "import requests\n",
    "import json\n",
    "import pandas as pd"
   ]
  },
  {
   "cell_type": "code",
   "execution_count": 85,
   "id": "89d3f3d4-05d4-48a9-9740-1b3223fddbcd",
   "metadata": {},
   "outputs": [
    {
     "data": {
      "text/plain": [
       "'{\"columns\":[\"season\",\"holiday\",\"workingday\",\"weather\",\"temp\",\"atemp\",\"humidity\",\"windspeed\",\"month\",\"day\",\"hour\"],\"data\":[[1,0,1,1,12.3,13.635,70,31.0009,3,1,0],[1,0,1,1,10.66,11.365,70,23.9994,3,1,1],[1,0,1,1,9.84,10.605,65,26.0027,3,1,2],[1,0,1,1,9.02,10.605,69,19.0012,3,1,3],[1,0,1,1,9.02,10.605,69,16.9979,3,1,4]]}'"
      ]
     },
     "execution_count": 85,
     "metadata": {},
     "output_type": "execute_result"
    }
   ],
   "source": [
    "dataset = pd.read_csv('train_bike.csv', header=0,  sep=',',\n",
    "                      parse_dates=['datetime'], index_col='datetime').drop(\n",
    "    columns=['casual', 'registered']\n",
    ")\n",
    "test_year = 2011\n",
    "test_month = 3\n",
    "test: pd.DataFrame = dataset.loc[\n",
    "    lambda df: (df.index.year == test_year) & (df.index.month == test_month)\n",
    "]\n",
    "def time_features(input_df):\n",
    "    return input_df.assign(\n",
    "        month = lambda df: df.index.month,\n",
    "        day = lambda df: df.index.day,\n",
    "        hour = lambda df: df.index.hour,\n",
    "    )\n",
    "test.pipe(time_features).drop(columns='count').head().to_json(orient='split', index=False)"
   ]
  },
  {
   "cell_type": "code",
   "execution_count": 86,
   "id": "c1221602-1faf-437d-b4c2-c9162cccab73",
   "metadata": {},
   "outputs": [],
   "source": [
    "predictions = requests.post(\n",
    "    'http://127.0.0.1:9999/invocations',\n",
    "    json=json.loads(\n",
    "        test.pipe(time_features)\n",
    "        .drop(columns='count')\n",
    "        .to_json(orient='split', index=False)\n",
    "    )\n",
    ").json()"
   ]
  },
  {
   "cell_type": "code",
   "execution_count": 87,
   "id": "fa273fab-10bf-49d8-897a-50791a32001c",
   "metadata": {},
   "outputs": [
    {
     "data": {
      "text/plain": [
       "[-2.6364862118705275,\n",
       " -1.7267545427918696,\n",
       " -6.801566608000301,\n",
       " -7.742135583613201,\n",
       " -7.333175706525842]"
      ]
     },
     "execution_count": 87,
     "metadata": {},
     "output_type": "execute_result"
    }
   ],
   "source": [
    "predictions[:5]"
   ]
  },
  {
   "cell_type": "code",
   "execution_count": 88,
   "id": "c537a7f4-afe3-4c29-ac26-7694712102d8",
   "metadata": {},
   "outputs": [],
   "source": [
    "from sklearn.metrics import r2_score"
   ]
  },
  {
   "cell_type": "code",
   "execution_count": 89,
   "id": "dffbe2d4-a73a-41da-9737-c35e4421e723",
   "metadata": {},
   "outputs": [
    {
     "data": {
      "text/plain": [
       "0.6026563896049335"
      ]
     },
     "execution_count": 89,
     "metadata": {},
     "output_type": "execute_result"
    }
   ],
   "source": [
    "r2_score(test.pipe(time_features)['count'].values, predictions)"
   ]
  }
 ],
 "metadata": {
  "kernelspec": {
   "display_name": "Python 3 (ipykernel)",
   "language": "python",
   "name": "python3"
  },
  "language_info": {
   "codemirror_mode": {
    "name": "ipython",
    "version": 3
   },
   "file_extension": ".py",
   "mimetype": "text/x-python",
   "name": "python",
   "nbconvert_exporter": "python",
   "pygments_lexer": "ipython3",
   "version": "3.8.10"
  }
 },
 "nbformat": 4,
 "nbformat_minor": 5
}
